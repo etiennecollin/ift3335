{
 "cells": [
  {
   "cell_type": "code",
   "execution_count": 39,
   "id": "initial_id",
   "metadata": {
    "is_executing": true
   },
   "outputs": [
    {
     "name": "stdout",
     "output_type": "stream",
     "text": [
      "Plots saved in the 'plots' folder.\n"
     ]
    }
   ],
   "source": [
    "import csv\n",
    "import os\n",
    "import matplotlib.pyplot as plt\n",
    "from matplotlib.cm import magma\n",
    "\n",
    "def plot_csv(filename, output_folder=\"plots\"):\n",
    "    # Read the CSV file and extract data\n",
    "    with open(filename, \"r\") as csvfile:\n",
    "        csv_reader = csv.reader(csvfile)\n",
    "        csv_data = list(csv_reader)\n",
    "\n",
    "    # Create the output folder if it doesn't exist\n",
    "    if not os.path.exists(output_folder):\n",
    "        os.makedirs(output_folder)\n",
    "\n",
    "    # Use the 'magma' colormap\n",
    "    cmap = magma\n",
    "\n",
    "    # Plot each row in a separate image\n",
    "    for i, row in enumerate(csv_data):\n",
    "        label = row[0]\n",
    "        is_solved = row[1]\n",
    "        row = row[2:]\n",
    "        iteration = list(range(len(row)))\n",
    "\n",
    "        # Create individual plot\n",
    "        fig, ax = plt.subplots(figsize=(8, 6))\n",
    "        ax.plot(iteration, row, label=label, color=cmap(i/len(csv_data)))\n",
    "        ax.set_xlabel(\"Iteration\")\n",
    "        ax.set_ylabel(\"Score (negative number of collisions)\")\n",
    "        ax.set_title(f\"{label} | Solved = {is_solved}\")\n",
    "\n",
    "        # Save the plot as an image\n",
    "        output_filename = os.path.join(output_folder, f\"plot_{i + 1}.png\")\n",
    "        plt.savefig(output_filename, bbox_inches='tight')\n",
    "        plt.close()\n",
    "\n",
    "    print(f\"Plots saved in the '{output_folder}' folder.\")\n",
    "\n",
    "# Example usage\n",
    "filename = \"analysis.csv\" \n",
    "plot_csv(filename)\n"
   ]
  },
  {
   "cell_type": "code",
   "execution_count": null,
   "id": "fbbd2f07-a543-4821-8f22-669f42d40fc0",
   "metadata": {},
   "outputs": [],
   "source": []
  }
 ],
 "metadata": {
  "kernelspec": {
   "display_name": "Python [conda env:root] *",
   "language": "python",
   "name": "conda-root-py"
  },
  "language_info": {
   "codemirror_mode": {
    "name": "ipython",
    "version": 3
   },
   "file_extension": ".py",
   "mimetype": "text/x-python",
   "name": "python",
   "nbconvert_exporter": "python",
   "pygments_lexer": "ipython3",
   "version": "3.9.17"
  }
 },
 "nbformat": 4,
 "nbformat_minor": 5
}
